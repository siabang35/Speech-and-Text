{
  "nbformat": 4,
  "nbformat_minor": 0,
  "metadata": {
    "colab": {
      "provenance": [],
      "collapsed_sections": [],
      "include_colab_link": true
    },
    "kernelspec": {
      "name": "python3",
      "display_name": "Python 3"
    },
    "language_info": {
      "name": "python"
    }
  },
  "cells": [
    {
      "cell_type": "markdown",
      "metadata": {
        "id": "view-in-github",
        "colab_type": "text"
      },
      "source": [
        "<a href=\"https://colab.research.google.com/github/siabang35/Speech-and-Text/blob/choice/Speech_and_Text_STT_%26_TTS.ipynb\" target=\"_parent\"><img src=\"https://colab.research.google.com/assets/colab-badge.svg\" alt=\"Open In Colab\"/></a>"
      ]
    },
    {
      "cell_type": "markdown",
      "source": [
        "# AIM0407D2203 Lab 1A Speech to Text & Text to Speech\n",
        "---\n"
      ],
      "metadata": {
        "id": "Z2GU4ZFUhPJM"
      }
    },
    {
      "cell_type": "markdown",
      "metadata": {
        "id": "Ch92hdEuxexb"
      },
      "source": [
        "# 01 Speech to Text (STT)\n",
        "\n"
      ]
    },
    {
      "cell_type": "code",
      "metadata": {
        "id": "uCyyG9IExkZU",
        "colab": {
          "base_uri": "https://localhost:8080/"
        },
        "outputId": "d6da077f-1520-47a8-d741-4ab45fe89e62"
      },
      "source": [
        "!pip -q install speechrecognition"
      ],
      "execution_count": null,
      "outputs": [
        {
          "output_type": "stream",
          "name": "stdout",
          "text": [
            "\u001b[K     |████████████████████████████████| 32.8 MB 128 kB/s \n",
            "\u001b[?25h"
          ]
        }
      ]
    },
    {
      "cell_type": "markdown",
      "metadata": {
        "id": "3lRj4YiEU99o"
      },
      "source": [
        "Modul google speech recognition hanya bisa bekerja secara online tidak untuk offline. (Harus menggunakan internet)"
      ]
    },
    {
      "cell_type": "code",
      "metadata": {
        "id": "Hyw_8sxax7qX"
      },
      "source": [
        "import speech_recognition as sr"
      ],
      "execution_count": null,
      "outputs": []
    },
    {
      "cell_type": "code",
      "source": [
        "# all imports\n",
        "from IPython.display import Javascript\n",
        "from google.colab import output\n",
        "from base64 import b64decode\n",
        "\n",
        "RECORD = \"\"\"\n",
        "const sleep = time => new Promise(resolve => {\n",
        "setTimeout(resolve, time)\n",
        "}, )\n",
        "const b2text = blob => new Promise(resolve => {\n",
        "const reader = new FileReader()\n",
        "reader.onloadend = e => resolve(e.srcElement.result)\n",
        "reader.readAsDataURL(blob)\n",
        "})\n",
        "var espacio = document.querySelector(\"#output-area\")\n",
        "var record = time => new Promise(async resolve => {\n",
        "stream = await navigator.mediaDevices.getUserMedia({ audio: true })\n",
        "recorder = new MediaRecorder(stream)\n",
        "chunks = []\n",
        "recorder.ondataavailable = e => chunks.push(e.data)\n",
        "recorder.start()\n",
        "var numerillo = (time/1000)-1\n",
        "for (var i = 0; i < numerillo; i++) {\n",
        "espacio.appendChild(document.createTextNode(numerillo-i))\n",
        "await sleep(1000)\n",
        "espacio.removeChild(espacio.lastChild)\n",
        "}\n",
        "recorder.onstop = async ()=>{\n",
        "blob = new Blob(chunks)\n",
        "text = await b2text(blob)\n",
        "resolve(text)\n",
        "}\n",
        "recorder.stop()\n",
        "})\n",
        "\"\"\"\n",
        "\n",
        "def record(fn, sec):\n",
        "  display(Javascript(RECORD))\n",
        "  s = output.eval_js('record(%d)' % (sec*1000))\n",
        "  b = b64decode(s.split(',')[1])\n",
        "  with open(fn,'wb') as f:\n",
        "    f.write(b)\n",
        "  return fn"
      ],
      "metadata": {
        "id": "k55ylrqhpj-H"
      },
      "execution_count": null,
      "outputs": []
    },
    {
      "cell_type": "code",
      "metadata": {
        "id": "irmhz7qayVHL",
        "colab": {
          "base_uri": "https://localhost:8080/",
          "height": 36
        },
        "outputId": "90da32cd-9d40-4767-d5a8-eabf84be6122"
      },
      "source": [
        "#record\n",
        "filename = 'orbit.wav'\n",
        "record(filename, 5)"
      ],
      "execution_count": null,
      "outputs": [
        {
          "output_type": "display_data",
          "data": {
            "text/plain": [
              "<IPython.core.display.Javascript object>"
            ],
            "application/javascript": [
              "\n",
              "const sleep = time => new Promise(resolve => {\n",
              "setTimeout(resolve, time)\n",
              "}, )\n",
              "const b2text = blob => new Promise(resolve => {\n",
              "const reader = new FileReader()\n",
              "reader.onloadend = e => resolve(e.srcElement.result)\n",
              "reader.readAsDataURL(blob)\n",
              "})\n",
              "var espacio = document.querySelector(\"#output-area\")\n",
              "var record = time => new Promise(async resolve => {\n",
              "stream = await navigator.mediaDevices.getUserMedia({ audio: true })\n",
              "recorder = new MediaRecorder(stream)\n",
              "chunks = []\n",
              "recorder.ondataavailable = e => chunks.push(e.data)\n",
              "recorder.start()\n",
              "var numerillo = (time/1000)-1\n",
              "for (var i = 0; i < numerillo; i++) {\n",
              "espacio.appendChild(document.createTextNode(numerillo-i))\n",
              "await sleep(1000)\n",
              "espacio.removeChild(espacio.lastChild)\n",
              "}\n",
              "recorder.onstop = async ()=>{\n",
              "blob = new Blob(chunks)\n",
              "text = await b2text(blob)\n",
              "resolve(text)\n",
              "}\n",
              "recorder.stop()\n",
              "})\n"
            ]
          },
          "metadata": {}
        },
        {
          "output_type": "execute_result",
          "data": {
            "text/plain": [
              "'orbit.wav'"
            ],
            "application/vnd.google.colaboratory.intrinsic+json": {
              "type": "string"
            }
          },
          "metadata": {},
          "execution_count": 4
        }
      ]
    },
    {
      "cell_type": "code",
      "source": [
        "path1 = ('/content/orbit.wav')"
      ],
      "metadata": {
        "id": "y2JhnIIhsKh7"
      },
      "execution_count": null,
      "outputs": []
    },
    {
      "cell_type": "code",
      "metadata": {
        "colab": {
          "base_uri": "https://localhost:8080/",
          "height": 76
        },
        "id": "6e3aMYwWP7F0",
        "outputId": "67405a18-d928-404b-aba6-77e690a2a2f4"
      },
      "source": [
        "import IPython.display as ipd\n",
        "ipd.Audio(path1)"
      ],
      "execution_count": null,
      "outputs": [
        {
          "output_type": "execute_result",
          "data": {
            "text/plain": [
              "<IPython.lib.display.Audio object>"
            ],
            "text/html": [
              "\n",
              "                <audio  controls=\"controls\" >\n",
              "                    <source src=\"data:audio/x-wav;base64,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\" type=\"audio/x-wav\" />\n",
              "                    Your browser does not support the audio element.\n",
              "                </audio>\n",
              "              "
            ]
          },
          "metadata": {},
          "execution_count": 9
        }
      ]
    },
    {
      "cell_type": "code",
      "source": [
        "#Convert ke file WAV yang sesuai\n",
        "import librosa\n",
        "import soundfile as sf"
      ],
      "metadata": {
        "id": "OB7JUWA0wh26"
      },
      "execution_count": null,
      "outputs": []
    },
    {
      "cell_type": "code",
      "metadata": {
        "id": "rRn5MN81P_re"
      },
      "source": [
        "# initialize the recognizer\n",
        "r = sr.Recognizer()"
      ],
      "execution_count": null,
      "outputs": []
    },
    {
      "cell_type": "code",
      "source": [
        "path = ('/content/orbit.wav')"
      ],
      "metadata": {
        "id": "fIGZrdMCu5ci"
      },
      "execution_count": null,
      "outputs": []
    },
    {
      "cell_type": "code",
      "source": [
        "x,_ = librosa.load(path, sr=16000)\n",
        "sf.write('/content/orbit_new.wav', x, 16000)"
      ],
      "metadata": {
        "colab": {
          "base_uri": "https://localhost:8080/"
        },
        "id": "3PLVFKQnwtV3",
        "outputId": "00d950b2-3cc9-4704-e589-66e9d06df910"
      },
      "execution_count": null,
      "outputs": [
        {
          "output_type": "stream",
          "name": "stderr",
          "text": [
            "/usr/local/lib/python3.7/dist-packages/librosa/core/audio.py:165: UserWarning: PySoundFile failed. Trying audioread instead.\n",
            "  warnings.warn(\"PySoundFile failed. Trying audioread instead.\")\n"
          ]
        }
      ]
    },
    {
      "cell_type": "code",
      "source": [
        "new_path = ('/content/orbit_new.wav')\n"
      ],
      "metadata": {
        "id": "YUUly3y2vGdz"
      },
      "execution_count": null,
      "outputs": []
    },
    {
      "cell_type": "code",
      "metadata": {
        "colab": {
          "base_uri": "https://localhost:8080/"
        },
        "id": "UDI2DKqFQDyO",
        "outputId": "eebf7dd1-23a8-402e-8a96-8d28558a9625"
      },
      "source": [
        "# open the file\n",
        "# Membuka file audio yang di upload\n",
        "with sr.AudioFile(new_path) as source:\n",
        "    # listen for the data (load audio to memory)\n",
        "    # Load audio ke memori\n",
        "    audio_data = r.record(source)\n",
        "    # recognize (convert from speech to text)\n",
        "    # konversi audio ke teks dan menggunakan bahasa Indonesia (id), bahasa dapat diganti sesuai dengan kebutuhan\n",
        "    text = r.recognize_google(audio_data, language='id')\n",
        "    # Tampilkan isi teks\n",
        "    print(text) "
      ],
      "execution_count": null,
      "outputs": [
        {
          "output_type": "stream",
          "name": "stdout",
          "text": [
            "coba coba coba\n"
          ]
        }
      ]
    },
    {
      "cell_type": "markdown",
      "metadata": {
        "id": "K-_zzVgQ67Rr"
      },
      "source": [
        "# 02 Text to Speech (TTS)"
      ]
    },
    {
      "cell_type": "code",
      "metadata": {
        "id": "JJf07rZU7AqN"
      },
      "source": [
        "!pip -q install gTTS"
      ],
      "execution_count": null,
      "outputs": []
    },
    {
      "cell_type": "code",
      "metadata": {
        "id": "2BQ0a3lb7JaZ"
      },
      "source": [
        "from gtts import gTTS"
      ],
      "execution_count": null,
      "outputs": []
    },
    {
      "cell_type": "code",
      "metadata": {
        "id": "y2O5K-wW7Ldj"
      },
      "source": [
        "# Masukkan kata-kata yang ingin di konversi disini, dan ubah bahasa sesuai dengan kebutuhan, msialnya teks bahasa Indonesia maka set bahasa ke 'id'\n",
        "tts = gTTS('Selamat hari raya idul fitri', lang='id')\n",
        "\n",
        "# Simpan hasil konversi ke format wav file atau bisa juga format mp3\n",
        "tts.save('idulFitri.wav')"
      ],
      "execution_count": null,
      "outputs": []
    },
    {
      "cell_type": "code",
      "metadata": {
        "colab": {
          "base_uri": "https://localhost:8080/",
          "height": 76
        },
        "id": "Kjrnc0nl7Sne",
        "outputId": "fa0deeee-4e92-4138-dc83-17dc1b74952d"
      },
      "source": [
        "import IPython.display as ipd\n",
        "ipd.Audio('idulFitri.wav')"
      ],
      "execution_count": null,
      "outputs": [
        {
          "output_type": "execute_result",
          "data": {
            "text/plain": [
              "<IPython.lib.display.Audio object>"
            ],
            "text/html": [
              "\n",
              "                <audio  controls=\"controls\" >\n",
              "                    <source src=\"data:audio/x-wav;base64,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\" type=\"audio/x-wav\" />\n",
              "                    Your browser does not support the audio element.\n",
              "                </audio>\n",
              "              "
            ]
          },
          "metadata": {},
          "execution_count": 37
        }
      ]
    }
  ]
}